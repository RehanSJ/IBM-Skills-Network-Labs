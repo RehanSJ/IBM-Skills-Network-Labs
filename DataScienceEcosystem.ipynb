{
 "cells": [
  {
   "cell_type": "markdown",
   "id": "196a1570-bdd2-4312-bb76-4e8595a674ea",
   "metadata": {},
   "source": [
    "# Data Science Tools and Ecosystem"
   ]
  },
  {
   "cell_type": "markdown",
   "id": "0b788f0f-0201-4653-a884-687054f2c6ff",
   "metadata": {
    "tags": []
   },
   "source": [
    "## In this notebook, Data Science Tools and Ecosystem are summarized."
   ]
  },
  {
   "cell_type": "markdown",
   "id": "9691d220-bd59-4a6a-b9e7-06ca99e4366d",
   "metadata": {},
   "source": [
    "### Objectives:\n",
    "- List popular languages Data Scientists use\n",
    "- List libraries Data Scientists use\n",
    "- List tools Data Scientists use"
   ]
  },
  {
   "cell_type": "markdown",
   "id": "2b79f9ea-28dd-4ad3-a0f6-a1e6c71b9556",
   "metadata": {
    "jp-MarkdownHeadingCollapsed": true,
    "tags": []
   },
   "source": [
    "### Some of the popular languages that Data Scientists use are:\n",
    "1. Python \n",
    "2. R \n",
    "3. SQL \n",
    "4. Scala \n",
    "5. Java\n",
    "6. C++\n",
    "7. Julia\n"
   ]
  },
  {
   "cell_type": "markdown",
   "id": "066f75f4-42f6-4d5c-9b62-4571b65a9599",
   "metadata": {},
   "source": [
    "### Some of the commonly used libraries used by Data Scientists include:\n",
    "1. TensorFlow.\n",
    "2. NumPy\n",
    "3. SciPy\n",
    "4. Pandas\n",
    "5. Matplotlib\n",
    "6. SciKit-Learn"
   ]
  },
  {
   "cell_type": "markdown",
   "id": "f0a60b12-549d-4ffe-ae7f-e582c796712c",
   "metadata": {},
   "source": [
    "|Data Science Tools   |\n",
    "|---|\n",
    " |VS Code             |\n",
    " |JupyterLab          | \n",
    " |JupyterLite         | "
   ]
  },
  {
   "cell_type": "markdown",
   "id": "4fba033c-bab7-4257-9f61-4d7ae2f1b6a6",
   "metadata": {},
   "source": [
    "### Below are a few examples of evaluating arithmetic expressions in Python"
   ]
  },
  {
   "cell_type": "code",
   "execution_count": 2,
   "id": "dbcee40f-e461-49ce-8d2d-f75be4b55792",
   "metadata": {},
   "outputs": [
    {
     "data": {
      "text/plain": [
       "17"
      ]
     },
     "execution_count": 2,
     "metadata": {},
     "output_type": "execute_result"
    }
   ],
   "source": [
    "# This a simple arithmetic expression to mutiply then add integers\n",
    "(3*4)+5"
   ]
  },
  {
   "cell_type": "code",
   "execution_count": 8,
   "id": "544a74f6-125b-4224-9ae3-843e3e412163",
   "metadata": {},
   "outputs": [
    {
     "data": {
      "text/plain": [
       "3.3333333333333335"
      ]
     },
     "execution_count": 8,
     "metadata": {},
     "output_type": "execute_result"
    }
   ],
   "source": [
    "# This will convert 200 minutes to hours by diving by 60\n",
    "200/60"
   ]
  },
  {
   "cell_type": "markdown",
   "id": "90a5f035-2343-4381-a5c8-2aa0be049601",
   "metadata": {},
   "source": [
    "## Author\n",
    "Rehan"
   ]
  },
  {
   "cell_type": "code",
   "execution_count": null,
   "id": "4280565d-fa76-4e3b-b58b-d5d20f3e65d0",
   "metadata": {},
   "outputs": [],
   "source": []
  }
 ],
 "metadata": {
  "kernelspec": {
   "display_name": "Python",
   "language": "python",
   "name": "conda-env-python-py"
  },
  "language_info": {
   "codemirror_mode": {
    "name": "ipython",
    "version": 3
   },
   "file_extension": ".py",
   "mimetype": "text/x-python",
   "name": "python",
   "nbconvert_exporter": "python",
   "pygments_lexer": "ipython3",
   "version": "3.7.12"
  }
 },
 "nbformat": 4,
 "nbformat_minor": 5
}
